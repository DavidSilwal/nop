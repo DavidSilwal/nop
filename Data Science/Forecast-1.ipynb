{
 "cells": [
  {
   "cell_type": "code",
   "execution_count": 1,
   "metadata": {},
   "outputs": [],
   "source": [
    "import numpy as np # linear algebra\n",
    "import pandas as pd # data processing, CSV file I/O (e.g. pd.read_csv)\n",
    "\n",
    "from sklearn import preprocessing;\n",
    "from sklearn.model_selection import cross_validate\n",
    "from sklearn.model_selection import train_test_split\n",
    "from sklearn import linear_model;\n",
    "import matplotlib.pyplot as plt\n"
   ]
  },
  {
   "cell_type": "code",
   "execution_count": 2,
   "metadata": {},
   "outputs": [],
   "source": [
    "def prepare_data(df,forecast_col,forecast_out,test_size):\n",
    "    label = df[forecast_col].shift(-forecast_out);#creating new column called label with the last 5 rows are nan\n",
    "    X = np.array(df[[forecast_col]]); #creating the feature array\n",
    "    X = preprocessing.scale(X) #processing the feature array\n",
    "    X_lately = X[-forecast_out:] #creating the column i want to use later in the predicting method\n",
    "    X = X[:-forecast_out] # X that will contain the training and testing\n",
    "    label.dropna(inplace=True); #dropping na values\n",
    "    y = np.array(label)  # assigning Y\n",
    "\n",
    "#     X_train, X_test, Y_train, Y_test = train_test_split(X, y, test_size=test_size)\n",
    "    print(X.shape)\n",
    "    X_train = X[:-int(X.shape[0]*test_size)]\n",
    "    X_test = X[-int(X.shape[0]*test_size):]\n",
    "    Y_train = y[:-int(y.shape[0]*test_size)]\n",
    "    Y_test = y[-int(y.shape[0]*test_size):]\n",
    "\n",
    "    response = [X_train,X_test , Y_train, Y_test , X_lately];\n",
    "    return response;"
   ]
  },
  {
   "cell_type": "code",
   "execution_count": 10,
   "metadata": {},
   "outputs": [
    {
     "name": "stdout",
     "output_type": "stream",
     "text": [
      "(2635, 1)\n"
     ]
    }
   ],
   "source": [
    "    df = pd.read_csv(\"NTC-year-mon.csv\") #loading the csv file\n",
    "    df['DATE'] =  pd.to_datetime(df['DATE'], infer_datetime_format=True)\n",
    "    df=df[df.SYMBOL=='NTC']#choosing stock symbol\n",
    "\n",
    "    forecast_col = 'CLOSE'#choosing which column to forecast\n",
    "    forecast_out = 5 #how far to forecast \n",
    "    test_size = 0.1; #the size of my test set\n",
    "\n",
    "    X_train, X_test, Y_train, Y_test , X_lately =prepare_data(df,forecast_col,forecast_out,test_size); #calling the method were the cross validation and data preperation is in\n",
    "\n",
    "    learner = linear_model.LinearRegression(); #initializing linear regression model\n",
    "\n",
    "    learner.fit(X_train,Y_train); #training the linear regression model\n",
    "    score=learner.score(X_test,Y_test);#testing the linear regression model\n",
    "\n",
    "    forecast= learner.predict(X_test); #set that will contain the forecasted data"
   ]
  },
  {
   "cell_type": "code",
   "execution_count": 4,
   "metadata": {},
   "outputs": [
    {
     "data": {
      "text/plain": [
       "0.7882257072190688"
      ]
     },
     "execution_count": 4,
     "metadata": {},
     "output_type": "execute_result"
    }
   ],
   "source": [
    "score"
   ]
  },
  {
   "cell_type": "code",
   "execution_count": 11,
   "metadata": {},
   "outputs": [
    {
     "data": {
      "text/plain": [
       "array([ 561.80794225,  547.38503346,  552.19266972,  552.19266972,\n",
       "        546.42350621,  552.19266972,  552.19266972,  550.26961522,\n",
       "        557.00030599,  557.00030599,  561.80794225,  561.80794225,\n",
       "        561.80794225,  557.96183324,  561.80794225,  561.80794225,\n",
       "        561.80794225,  564.69252401,  557.96183324,  551.23114247,\n",
       "        552.19266972,  557.00030599,  557.00030599,  560.846415  ,\n",
       "        552.19266972,  557.00030599,  552.19266972,  558.92336049,\n",
       "        562.7694695 ,  561.80794225,  555.07725148,  561.80794225,\n",
       "        561.80794225,  566.61557851,  581.0384873 ,  572.38474203,\n",
       "        561.80794225,  561.80794225,  562.7694695 ,  561.80794225,\n",
       "        565.65405126,  566.61557851,  572.38474203,  564.69252401,\n",
       "        559.88488774,  571.42321477,  576.23085104,  581.0384873 ,\n",
       "        571.42321477,  571.42321477,  585.84612356,  600.26903235,\n",
       "        600.26903235,  595.46139608,  616.61499564,  628.15332267,\n",
       "        615.65346839,  581.0384873 ,  566.61557851,  566.61557851,\n",
       "        557.00030599,  559.88488774,  557.00030599,  557.96183324,\n",
       "        552.19266972,  542.5773972 ,  547.38503346,  548.34656071,\n",
       "        552.19266972,  552.19266972,  552.19266972,  557.00030599,\n",
       "        552.19266972,  552.19266972,  552.19266972,  552.19266972,\n",
       "        557.00030599,  541.61586995,  552.19266972,  552.19266972,\n",
       "        552.19266972,  552.19266972,  557.00030599,  561.80794225,\n",
       "        576.23085104,  557.00030599,  571.42321477,  574.30779653,\n",
       "        595.46139608,  609.88430487,  621.4226319 ,  609.88430487,\n",
       "        605.07666861,  590.65375982,  581.0384873 ,  580.07696005,\n",
       "        571.42321477,  571.42321477,  552.19266972,  550.26961522,\n",
       "        552.19266972,  557.00030599,  552.19266972,  551.23114247,\n",
       "        532.96212467,  528.15448841,  518.53921589,  518.53921589,\n",
       "        518.53921589,  516.61616138,  507.00088886,  504.1163071 ,\n",
       "        513.73157963,  513.73157963,  513.73157963,  515.65463413,\n",
       "        519.50074314,  523.34685215,  529.11601566,  528.15448841,\n",
       "        529.11601566,  523.34685215,  530.07754292,  528.15448841,\n",
       "        533.92365193,  530.07754292,  529.11601566,  536.80823368,\n",
       "        535.84670643,  532.96212467,  552.19266972,  561.80794225,\n",
       "        561.80794225,  557.00030599,  571.42321477,  547.38503346,\n",
       "        548.34656071,  551.23114247,  560.846415  ,  552.19266972,\n",
       "        545.46197896,  547.38503346,  547.38503346,  543.53892445,\n",
       "        547.38503346,  557.00030599,  571.42321477,  571.42321477,\n",
       "        573.34626928,  562.7694695 ,  594.49986883,  600.26903235,\n",
       "        595.46139608,  590.65375982,  571.42321477,  573.34626928,\n",
       "        576.23085104,  570.46168752,  581.0384873 ,  582.00001455,\n",
       "        592.57681433,  571.42321477,  552.19266972,  542.5773972 ,\n",
       "        528.15448841,  534.88517918,  569.50016027,  573.34626928,\n",
       "        523.34685215,  513.73157963,  519.50074314,  527.19296116,\n",
       "        528.15448841,  537.76976094,  537.76976094,  528.15448841,\n",
       "        532.96212467,  542.5773972 ,  542.5773972 ,  561.80794225,\n",
       "        576.23085104,  583.92306906,  585.84612356,  578.15390554,\n",
       "        578.15390554,  589.69223257,  590.65375982,  595.46139608,\n",
       "        602.19208685,  584.88459631,  584.88459631,  590.65375982,\n",
       "        600.26903235,  591.61528708,  598.34597784,  600.26903235,\n",
       "        600.26903235,  595.46139608,  609.88430487,  609.88430487,\n",
       "        617.57652289,  609.88430487,  609.88430487,  614.69194113,\n",
       "        619.4995774 ,  600.26903235,  581.0384873 ,  583.92306906,\n",
       "        542.5773972 ,  542.5773972 ,  590.65375982,  614.69194113,\n",
       "        628.15332267,  638.73012245,  624.30721366,  617.57652289,\n",
       "        648.34539497,  653.15303123,  653.15303123,  662.76830376,\n",
       "        643.53775871,  621.4226319 ,  648.34539497,  668.53746727,\n",
       "        697.38328485,  696.42175759,  702.19092111,  705.07550287,\n",
       "        706.03703012,  681.99884881,  680.0757943 ,  667.57594002,\n",
       "        663.72983101,  676.22968529,  687.76801232,  692.57564858,\n",
       "        720.45993891,  744.49812022,  720.45993891,  720.45993891,\n",
       "        715.65230264,  720.45993891,  720.45993891,  706.03703012,\n",
       "        708.92161188,  716.6138299 ,  706.03703012,  781.03615581,\n",
       "        864.68902677,  839.68931821,  797.3821191 ,  797.3821191 ,\n",
       "        859.88139051,  886.80415358,  885.84262633,  936.80357071,\n",
       "        965.64938828,  984.87993333,  977.18771531,  968.53397004,\n",
       "       1073.34044056, 1189.68523811, 1318.52988994])"
      ]
     },
     "execution_count": 11,
     "metadata": {},
     "output_type": "execute_result"
    }
   ],
   "source": [
    "forecast"
   ]
  },
  {
   "cell_type": "code",
   "execution_count": 6,
   "metadata": {},
   "outputs": [],
   "source": [
    "# forecast"
   ]
  },
  {
   "cell_type": "code",
   "execution_count": 6,
   "metadata": {},
   "outputs": [
    {
     "data": {
      "image/png": "[encoded data removed]",
      "text/plain": [
       "<Figure size 432x288 with 1 Axes>"
      ]
     },
     "metadata": {
      "needs_background": "light"
     },
     "output_type": "display_data"
    }
   ],
   "source": [
    "plt.scatter(X_test, Y_test, color = \"red\")\n",
    "plt.plot(X_train, learner.predict(X_train), color = \"green\")\n",
    "plt.show()"
   ]
  },
  {
   "cell_type": "code",
   "execution_count": 8,
   "metadata": {},
   "outputs": [],
   "source": [
    "# forecast"
   ]
  },
  {
   "cell_type": "code",
   "execution_count": 7,
   "metadata": {},
   "outputs": [
    {
     "data": {
      "image/png": "[encoded data removed]",
      "text/plain": [
       "<Figure size 432x288 with 1 Axes>"
      ]
     },
     "metadata": {},
     "output_type": "display_data"
    }
   ],
   "source": [
    "plt.scatter(X_test, Y_test,  color='black')\n",
    "plt.plot(X_test, learner.predict(X_test), color='blue', linewidth=3)\n",
    "\n",
    "plt.xticks(())\n",
    "plt.yticks(())\n",
    "\n",
    "plt.show()"
   ]
  },
  {
   "cell_type": "code",
   "execution_count": 12,
   "metadata": {},
   "outputs": [
    {
     "ename": "SyntaxError",
     "evalue": "invalid syntax (<ipython-input-12-6cdb1486daa7>, line 5)",
     "output_type": "error",
     "traceback": [
      "\u001b[1;36m  File \u001b[1;32m\"<ipython-input-12-6cdb1486daa7>\"\u001b[1;36m, line \u001b[1;32m5\u001b[0m\n\u001b[1;33m    valid['Predictions'] = forecast\u001b[0m\n\u001b[1;37m        ^\u001b[0m\n\u001b[1;31mSyntaxError\u001b[0m\u001b[1;31m:\u001b[0m invalid syntax\n"
     ]
    }
   ],
   "source": [
    "#Plot/Create the data for the graph\n",
    "training_data_len = int(df.shape[0]*0.1)\n",
    "train = df[:-training_data_len]\n",
    "valid = df[-(training_data_len)\n",
    "valid['Predictions'] = forecast\n",
    "#Visualize the data\n",
    "plt.figure(figsize=(16,8))\n",
    "plt.title('Model')\n",
    "plt.xlabel('Date', fontsize=18)\n",
    "plt.ylabel('CLOSE', fontsize=18)\n",
    "plt.plot(train['CLOSE'])\n",
    "plt.plot(valid[['CLOSE', 'Predictions']])\n",
    "plt.legend(('train', 'val', 'prediction'))\n",
    "plt.show()"
   ]
  },
  {
   "cell_type": "code",
   "execution_count": 13,
   "metadata": {},
   "outputs": [
    {
     "data": {
      "text/plain": [
       "array([[<matplotlib.axes._subplots.AxesSubplot object at 0x0000019F4E9C7C08>,\n",
       "        <matplotlib.axes._subplots.AxesSubplot object at 0x0000019F4E9EABC8>,\n",
       "        <matplotlib.axes._subplots.AxesSubplot object at 0x0000019F4EA236C8>],\n",
       "       [<matplotlib.axes._subplots.AxesSubplot object at 0x0000019F4EA5E7C8>,\n",
       "        <matplotlib.axes._subplots.AxesSubplot object at 0x0000019F4EA98908>,\n",
       "        <matplotlib.axes._subplots.AxesSubplot object at 0x0000019F4EACE808>],\n",
       "       [<matplotlib.axes._subplots.AxesSubplot object at 0x0000019F4EB06908>,\n",
       "        <matplotlib.axes._subplots.AxesSubplot object at 0x0000019F4EB40A08>,\n",
       "        <matplotlib.axes._subplots.AxesSubplot object at 0x0000019F4EB4B608>]],\n",
       "      dtype=object)"
      ]
     },
     "execution_count": 13,
     "metadata": {},
     "output_type": "execute_result"
    },
    {
     "data": {
      "image/png": "[encoded data removed]",
      "text/plain": [
       "<Figure size 432x288 with 9 Axes>"
      ]
     },
     "metadata": {
      "needs_background": "light"
     },
     "output_type": "display_data"
    }
   ],
   "source": [
    "df.hist(grid = False, color = 'cadetblue')"
   ]
  },
  {
   "cell_type": "code",
   "execution_count": null,
   "metadata": {},
   "outputs": [],
   "source": []
  }
 ],
 "metadata": {
  "kernelspec": {
   "display_name": "Python 3",
   "language": "python",
   "name": "python3"
  },
  "language_info": {
   "codemirror_mode": {
    "name": "ipython",
    "version": 3
   },
   "file_extension": ".py",
   "mimetype": "text/x-python",
   "name": "python",
   "nbconvert_exporter": "python",
   "pygments_lexer": "ipython3",
   "version": "3.8.2"
  }
 },
 "nbformat": 4,
 "nbformat_minor": 4
}
